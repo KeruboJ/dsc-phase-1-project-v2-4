{
 "cells": [
  {
   "cell_type": "markdown",
   "metadata": {},
   "source": [
    "## Final Project Submission\n",
    "\n",
    "Please fill out:\n",
    "* Student name: Joan Nyamache\n",
    "* Student pace: self paced / part time / full time\n",
    "* Scheduled project review date/time: \n",
    "* Instructor name: Asha Deen\n",
    "* Blog post URL:N/A\n",
    "\n",
    "\n",
    "\n",
    "Phase 1 Project:\n",
    "\n",
    "Microsoft Movie Studio\n",
    "\n",
    "\n",
    "Introduction\n",
    "\n",
    "1. Overview \n",
    "\n",
    "The project aims to provide data-driven insights to support Microsoft's new movie studio in establishing a successful presence in the movie industry. The goal is to help Microsoft's new movie studio understand what kinds of movies are currently popular at the box office. We'll look at things like the types of movies people are watching the most, who is watching them, and how much money they're making. By doing this research, we aim to give the studio useful information that they can use to decide what kind of movies to make. This means figuring out which genres and themes are likely to attract the most viewers and make the most money. Ultimately, our objective is to give Microsoft's movie studio the insights they need to create successful movies that people will enjoy watching.\"\n",
    "\n",
    "2. Project Goals\n",
    "\n",
    "Project goals include the following: -\n",
    ".\tTo investigate the current movie trends, in accordance to the Box Office Productions\n",
    ".\tTo examine the necessary statistics that will be used to determine the movies that are succeeding at the Box Office.\n",
    ".\tTo translate the findings into actionable insights that will be used by Microsoft Studio to make informed decisions to produce good movies.\n",
    ".\tTo provide recommendations on the types of films that are likely to be successful in the future.\n",
    "\n",
    "3. Business Understanding\n",
    "\n",
    "This project's goal and objective is to investigate the kinds of movies that are currently doing well at the Box Office and offer useful information that Microsoft can use to decide what kinds of movies to make. In order to determine the most popular genres, actors, directors, and other elements that influence a film's industry success, the project will involve evaluating movie data.\n",
    "\n",
    "4. Data Sources\n",
    "\n",
    "The datasets are stored in the 'zippedData' folder and were sourced from:\n",
    "\n",
    "Box Office MojoLinks\n",
    "bom.movie_gross.csv\n",
    "\n",
    "IMDBLinks\n",
    "im.db\n",
    "\n",
    "Rotten TomatoesLinks\n",
    "rt.movie_info.tsv\n",
    "\n",
    "TheMovieDBLinks\n",
    "tmdb.movies.csv\n",
    "\n",
    "The Numbers\n",
    "tn.movie_budget.csv\n",
    "\n",
    "Importing the relevant libraries\n",
    "\n",
    "\n",
    "\n"
   ]
  },
  {
   "cell_type": "code",
   "execution_count": 5,
   "metadata": {},
   "outputs": [],
   "source": [
    "import pandas as pd\n",
    "import numpy as np\n",
    "import sqlite3\n",
    "import matplotlib.pyplot as plt"
   ]
  },
  {
   "cell_type": "code",
   "execution_count": 6,
   "metadata": {},
   "outputs": [],
   "source": [
    "#tmdmovies_budget=pd.read_csv(r\"zippedData\\tmdb.movies.csv\\tmdb.movies.csv\")\n",
    "\n",
    "#tnmovies_budget=pd.read_csv(r\"zippedData\\tn.movie_budgets.csv\\tn.movie_budgets.csv\")\n",
    "\n",
    "#trmovie_info=pd.read_csv(r\"zippedData\\rt.movie_info.tsv\\rt.movie_info.tsv\", sep='\\t')\n",
    "\n",
    "#rtreview_tsv=pd.read_csv(r\"zippedData\\rt.reviews.tsv\\rt.reviews.tsv\", sep='\\t', encoding='latin1')\n",
    "\n",
    "#bom_movies=pd.read_csv(r\"zippedData\\bom.movie_gross.csv\\bom.movie_gross.csv\")"
   ]
  }
 ],
 "metadata": {
  "kernelspec": {
   "display_name": "Python 3",
   "language": "python",
   "name": "python3"
  },
  "language_info": {
   "codemirror_mode": {
    "name": "ipython",
    "version": 3
   },
   "file_extension": ".py",
   "mimetype": "text/x-python",
   "name": "python",
   "nbconvert_exporter": "python",
   "pygments_lexer": "ipython3",
   "version": "3.8.5"
  }
 },
 "nbformat": 4,
 "nbformat_minor": 2
}
