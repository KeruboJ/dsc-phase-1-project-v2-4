{
 "cells": [
  {
   "cell_type": "markdown",
   "metadata": {},
   "source": [
    "## Final Project Submission\n",
    "\n",
    "Please fill out:\n",
    "* Student name: Joan Nyamache\n",
    "* Student pace: self paced / part time / full time\n",
    "* Scheduled project review date/time: \n",
    "* Instructor name: Asha Deen\n",
    "* Blog post URL:N/A\n",
    "\n",
    "\n",
    "\n",
    "Phase 1 Project:\n",
    "\n",
    "Microsoft Movie Studio\n",
    "\n",
    "\n",
    "Introduction\n",
    "\n",
    "1. Overview \n",
    "\n",
    "The project aims to provide data-driven insights to support Microsoft's new movie studio in establishing a successful presence in the movie industry. The goal is to help Microsoft's new movie studio understand what kinds of movies are currently popular at the box office. We'll look at things like the types of movies people are watching the most, who is watching them, and how much money they're making. By doing this research, we aim to give the studio useful information that they can use to decide what kind of movies to make. This means figuring out which genres and themes are likely to attract the most viewers and make the most money. Ultimately, our objective is to give Microsoft's movie studio the insights they need to create successful movies that people will enjoy watching.\"\n",
    "\n",
    "2. Project Goals\n",
    "\n",
    "Project goals include the following: -\n",
    ".\tTo investigate the current movie trends, in accordance to the Box Office Productions\n",
    ".\tTo examine the necessary statistics that will be used to determine the movies that are succeeding at the Box Office.\n",
    ".\tTo translate the findings into actionable insights that will be used by Microsoft Studio to make informed decisions to produce good movies.\n",
    ".\tTo provide recommendations on the types of films that are likely to be successful in the future.\n",
    "\n",
    "3. Business Understanding\n",
    "\n",
    "This project's goal and objective is to investigate the kinds of movies that are currently doing well at the Box Office and offer useful information that Microsoft can use to decide what kinds of movies to make. In order to determine the most popular genres, actors, directors, and other elements that influence a film's industry success, the project will involve evaluating movie data.\n",
    "\n",
    "4. Data Sources\n",
    "\n",
    "The datasets are stored in the 'zippedData' folder which was sourced from:\n",
    "\n",
    "•\tBox Office MojoLinks\n",
    "\tbom.movie_gross.csv\n",
    "•\tIMDBLinks\n",
    "\tim.db\n",
    "•\tRotten TomatoesLinks\n",
    "\trt.movie_info.tsv\n",
    "•\tTheMovieDBLinks\n",
    "\ttmdb.movies.csv\n",
    "•\tThe Numbers\n",
    "\ttn.movie_budgets.csv\n",
    "\n",
    "\n",
    "\n"
   ]
  },
  {
   "cell_type": "code",
   "execution_count": 1,
   "metadata": {},
   "outputs": [],
   "source": []
  }
 ],
 "metadata": {
  "kernelspec": {
   "display_name": "Python 3",
   "language": "python",
   "name": "python3"
  },
  "language_info": {
   "codemirror_mode": {
    "name": "ipython",
    "version": 3
   },
   "file_extension": ".py",
   "mimetype": "text/x-python",
   "name": "python",
   "nbconvert_exporter": "python",
   "pygments_lexer": "ipython3",
   "version": "3.8.5"
  }
 },
 "nbformat": 4,
 "nbformat_minor": 2
}
